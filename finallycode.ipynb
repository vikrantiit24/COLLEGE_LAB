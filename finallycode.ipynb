{
  "nbformat": 4,
  "nbformat_minor": 0,
  "metadata": {
    "colab": {
      "provenance": [],
      "authorship_tag": "ABX9TyOvBpnalANZF9DIB8GYUyli",
      "include_colab_link": true
    },
    "kernelspec": {
      "name": "python3",
      "display_name": "Python 3"
    },
    "language_info": {
      "name": "python"
    }
  },
  "cells": [
    {
      "cell_type": "markdown",
      "metadata": {
        "id": "view-in-github",
        "colab_type": "text"
      },
      "source": [
        "<a href=\"https://colab.research.google.com/github/vikrantiit24/COLLEGE_LAB/blob/main/finallycode.ipynb\" target=\"_parent\"><img src=\"https://colab.research.google.com/assets/colab-badge.svg\" alt=\"Open In Colab\"/></a>"
      ]
    },
    {
      "cell_type": "code",
      "execution_count": null,
      "metadata": {
        "colab": {
          "base_uri": "https://localhost:8080/"
        },
        "collapsed": true,
        "id": "Od0gQVqHTdqj",
        "outputId": "91a29065-53e1-4a86-82b3-d6b935448978"
      },
      "outputs": [
        {
          "output_type": "stream",
          "name": "stdout",
          "text": [
            "5\n",
            "44\n",
            "333\n",
            "2222\n",
            "11111\n"
          ]
        }
      ],
      "source": [
        "n=5\n",
        "for i in range(5,0,-1):\n",
        "  for j in range(5-i+1):\n",
        "    print(i,end='')\n",
        "  print()"
      ]
    },
    {
      "cell_type": "code",
      "source": [
        "a=input(\"enter the character\")\n",
        "if a.isupper():\n",
        "  print(\"uppercase\")\n",
        "elif a.islower():\n",
        "  print(\"is lower\")\n",
        "else:\n",
        "  print(\"invalid \")"
      ],
      "metadata": {
        "colab": {
          "base_uri": "https://localhost:8080/"
        },
        "collapsed": true,
        "id": "d7BKm73cXyb2",
        "outputId": "06a4379c-2d67-449b-96b4-476f6b0ec838"
      },
      "execution_count": null,
      "outputs": [
        {
          "output_type": "stream",
          "name": "stdout",
          "text": [
            "enter the characterA\n",
            "uppercase\n"
          ]
        }
      ]
    },
    {
      "cell_type": "code",
      "source": [
        "n=int(input(\"enter the range\"))\n",
        "a,b=0,1\n",
        "count=0\n",
        "fib_list=[]\n",
        "while count<n:\n",
        "  fib_list.append(a)\n",
        "  a,b=b,a+b\n",
        "  count+=1\n",
        "print(fib_list)"
      ],
      "metadata": {
        "colab": {
          "base_uri": "https://localhost:8080/"
        },
        "collapsed": true,
        "id": "o3yJ1spdYPBc",
        "outputId": "0c87f1ea-6689-4590-a57a-3f03e20a8bf1"
      },
      "execution_count": null,
      "outputs": [
        {
          "output_type": "stream",
          "name": "stdout",
          "text": [
            "enter the range4\n",
            "[0, 1, 1, 2]\n"
          ]
        }
      ]
    },
    {
      "cell_type": "code",
      "source": [
        "min_value=int(input(\"enter the minimum value\"))\n",
        "max_value=int(input(\"enter the maximum value\"))\n",
        "for num in range(min_value,max_value+1):\n",
        "  if num>1:\n",
        "    for i in range(2,num):\n",
        "      if num%i==0:\n",
        "        break\n",
        "    else:\n",
        "      print(num)"
      ],
      "metadata": {
        "id": "0x4ZDE02ZVLZ"
      },
      "execution_count": null,
      "outputs": []
    },
    {
      "cell_type": "code",
      "source": [
        "import array\n",
        "list_data = [1, 2, 3, 4, 5]\n",
        "tuple_data = (6, 7, 8, 9, 10)\n",
        "array_from_list=array.array('i',list_data)\n",
        "array_from_tuple=array.array('i',tuple_data)\n",
        "print(array_from_list)\n",
        "print(array_from_tuple)"
      ],
      "metadata": {
        "colab": {
          "base_uri": "https://localhost:8080/"
        },
        "collapsed": true,
        "id": "8yeervtfarpJ",
        "outputId": "6cae5db2-7e14-49f0-c527-c84755458cae"
      },
      "execution_count": null,
      "outputs": [
        {
          "output_type": "stream",
          "name": "stdout",
          "text": [
            "array('i', [1, 2, 3, 4, 5])\n",
            "array('i', [6, 7, 8, 9, 10])\n"
          ]
        }
      ]
    },
    {
      "cell_type": "code",
      "source": [
        "arr_1=[1,2,3,4]\n",
        "arr_2=[4,5,6,7]\n",
        "arr_3=[7,4,10,11]\n",
        "for i in arr_1:\n",
        "  for j in arr_2:\n",
        "    for k in arr_3:\n",
        "      if i==j==k:\n",
        "        print(i)"
      ],
      "metadata": {
        "colab": {
          "base_uri": "https://localhost:8080/"
        },
        "id": "twtXxywlbVQd",
        "outputId": "ae1b5eae-9758-46dc-b05e-0e5e5468b40a"
      },
      "execution_count": null,
      "outputs": [
        {
          "output_type": "stream",
          "name": "stdout",
          "text": [
            "4\n"
          ]
        }
      ]
    },
    {
      "cell_type": "code",
      "source": [
        "def gcd(a,b):\n",
        "  while b!=0:\n",
        "    a,b=b,a%b\n",
        "  return a\n",
        "print(gcd(12,14))"
      ],
      "metadata": {
        "colab": {
          "base_uri": "https://localhost:8080/"
        },
        "id": "zEjnIVw1bl4R",
        "outputId": "db00c01a-5627-4b23-b71d-adedfb7ebf2f"
      },
      "execution_count": null,
      "outputs": [
        {
          "output_type": "stream",
          "name": "stdout",
          "text": [
            "2\n"
          ]
        }
      ]
    },
    {
      "cell_type": "code",
      "source": [
        "str=input(\"enter the string\")\n",
        "if str==str[::-1]:\n",
        "  print(\"palindrome\")\n",
        "else:\n",
        "  print(\"not palindrome\")"
      ],
      "metadata": {
        "colab": {
          "base_uri": "https://localhost:8080/"
        },
        "collapsed": true,
        "id": "-XqiMSx2etXM",
        "outputId": "9baf61d8-3e58-43be-b39c-234f3f286217"
      },
      "execution_count": null,
      "outputs": [
        {
          "output_type": "stream",
          "name": "stdout",
          "text": [
            "enter the stringanna\n",
            "palindrome\n"
          ]
        }
      ]
    },
    {
      "cell_type": "code",
      "source": [
        "def is_sorted(lst):\n",
        "  for i in range(len(lst)-1):\n",
        "    if lst[i]>lst[i+1]:\n",
        "      return False\n",
        "  return True\n",
        "my_list=[1,2,3,4,5]\n",
        "print(is_sorted(my_list))"
      ],
      "metadata": {
        "colab": {
          "base_uri": "https://localhost:8080/"
        },
        "id": "VEnVoujFfuif",
        "outputId": "dd5f6add-e78a-4f0a-875b-d905c9fed9f5"
      },
      "execution_count": null,
      "outputs": [
        {
          "output_type": "stream",
          "name": "stdout",
          "text": [
            "True\n"
          ]
        }
      ]
    },
    {
      "cell_type": "code",
      "source": [
        "def has_duplicates(lst):\n",
        "  seen=set()\n",
        "  for item in lst:\n",
        "    if item in seen:\n",
        "      return True\n",
        "      seen.add(item)\n",
        "    return False\n",
        "my_list=[1,2,3,4,5]\n",
        "print(has_duplicates(my_list))\n"
      ],
      "metadata": {
        "id": "STgXFZEkhRRw"
      },
      "execution_count": null,
      "outputs": []
    },
    {
      "cell_type": "code",
      "source": [
        "def remove_duplicates(arr):\n",
        "  return(list(set(arr)))\n",
        "arr=[2,3,3,3,4,5,6]\n",
        "print(remove_duplicates(arr))"
      ],
      "metadata": {
        "colab": {
          "base_uri": "https://localhost:8080/"
        },
        "id": "V-PFxxOIioPd",
        "outputId": "b3ff8dc5-a69a-4e70-e229-91d637ffa730"
      },
      "execution_count": null,
      "outputs": [
        {
          "output_type": "stream",
          "name": "stdout",
          "text": [
            "[2, 3, 4, 5, 6]\n"
          ]
        }
      ]
    },
    {
      "cell_type": "code",
      "source": [
        "my_dict={'A':23,'M':47,'J':97}\n",
        "inverted_dict={values:key for key,values in my_dict.items()}\n",
        "print(inverted_dict)"
      ],
      "metadata": {
        "colab": {
          "base_uri": "https://localhost:8080/"
        },
        "id": "TYC5nQw3jUJQ",
        "outputId": "0c515f7b-8a92-4945-da41-27688b178ecf"
      },
      "execution_count": null,
      "outputs": [
        {
          "output_type": "stream",
          "name": "stdout",
          "text": [
            "{23: 'A', 47: 'M', 97: 'J'}\n"
          ]
        }
      ]
    },
    {
      "cell_type": "code",
      "source": [
        "n=input(\"enter the word\")\n",
        "print(','.join(n))"
      ],
      "metadata": {
        "colab": {
          "base_uri": "https://localhost:8080/"
        },
        "collapsed": true,
        "id": "OUmVuUbGlnpZ",
        "outputId": "8399b694-cc3d-48dc-cb84-01e06ac54bcb"
      },
      "execution_count": null,
      "outputs": [
        {
          "output_type": "stream",
          "name": "stdout",
          "text": [
            "enter the wordapple\n",
            "a,p,p,l,e\n"
          ]
        }
      ]
    },
    {
      "cell_type": "code",
      "source": [
        "def generate_binary(n,prefix):\n",
        "  if n==0:\n",
        "    print(prefix)\n",
        "  else:\n",
        "    generate_binary(n-1,prefix+'0')\n",
        "    generate_binary(n-1,prefix+'1')\n",
        "print(generate_binary(3, ''))"
      ],
      "metadata": {
        "colab": {
          "base_uri": "https://localhost:8080/"
        },
        "collapsed": true,
        "id": "8nIEWv9Xl4EQ",
        "outputId": "69c0507f-4630-408a-ad17-db8ea9f0ee91"
      },
      "execution_count": null,
      "outputs": [
        {
          "output_type": "stream",
          "name": "stdout",
          "text": [
            "000\n",
            "001\n",
            "010\n",
            "011\n",
            "100\n",
            "101\n",
            "110\n",
            "111\n",
            "None\n"
          ]
        }
      ]
    },
    {
      "cell_type": "code",
      "source": [
        "matrix_1=[]\n",
        "for i in range(3):\n",
        "    row=[]\n",
        "    for j in range(3):\n",
        "        val=int(input(f'Enter element [{i}][{j}]'))\n",
        "        row.append(val)\n",
        "    matrix_1.append(row)\n",
        "for row in matrix_1:\n",
        "    print(row)\n",
        "matrix_2=[]\n",
        "for i in range(3):\n",
        "    row=[]\n",
        "    for j in range(3):\n",
        "        val=int(input(f'Enter element [{i}][{j}]'))\n",
        "        row.append(val)\n",
        "    matrix_2.append(row)\n",
        "for row in matrix_1:\n",
        "    print(row)\n",
        "result=[]\n",
        "for i in range(3):\n",
        "    row_1=[]\n",
        "    for j in range(3):\n",
        "        row_1.append(matrix_1[i][j]+matrix_2[i][j])\n",
        "    result.append(row_1)\n",
        "\n",
        "print(\"the sum of two matrix \")\n",
        "for row_1 in result:\n",
        "    print(result)"
      ],
      "metadata": {
        "id": "MFIakbjpwoeg"
      },
      "execution_count": null,
      "outputs": []
    },
    {
      "cell_type": "code",
      "source": [
        "matrix_1=[]\n",
        "for i in range(3):\n",
        "    row=[]\n",
        "    for j in range(3):\n",
        "        val=int(input(f'{i}{j}'))\n",
        "        row.append(val)\n",
        "    matrix_1.append(row)\n",
        "\n",
        "matrix_2=[]\n",
        "for i in range(3):\n",
        "    row=[]\n",
        "    for j in range(3):\n",
        "        val=int(input(f'{i}{j}'))\n",
        "        row.append(val)\n",
        "    matrix_2.append(row)\n",
        "\n",
        "result=[]\n",
        "for i in range(3):\n",
        "    row_1=[]\n",
        "    for j in range(3):\n",
        "        total=0\n",
        "        for k in range(3):\n",
        "            total+=matrix_1[i][k]*matrix_2[k][j]\n",
        "        row_1.append(total)\n",
        "    result.append(row_1)\n",
        "\n",
        "for row in result:\n",
        "    print(row)"
      ],
      "metadata": {
        "id": "ILYa-yzdw1TI"
      },
      "execution_count": null,
      "outputs": []
    },
    {
      "cell_type": "code",
      "source": [
        "a=5\n",
        "b=int(input(\"enter the number\"))\n",
        "try:\n",
        "  a/b\n",
        "except Exception as e:\n",
        "  print(\"cannot divide by zero\",e)\n",
        "finally:\n",
        "  print(\"finally block\")"
      ],
      "metadata": {
        "colab": {
          "base_uri": "https://localhost:8080/"
        },
        "id": "QnFU2VRfxArN",
        "outputId": "b544a669-a0e6-410e-dffe-83bb25cbfe12"
      },
      "execution_count": null,
      "outputs": [
        {
          "output_type": "stream",
          "name": "stdout",
          "text": [
            "enter the number0\n",
            "cannot divide by zero division by zero\n",
            "finally block\n"
          ]
        }
      ]
    }
  ]
}