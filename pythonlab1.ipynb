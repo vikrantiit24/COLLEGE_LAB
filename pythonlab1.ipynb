{
  "nbformat": 4,
  "nbformat_minor": 0,
  "metadata": {
    "colab": {
      "provenance": [],
      "authorship_tag": "ABX9TyNII4Z35Hyuw5Np8UQWHnZV",
      "include_colab_link": true
    },
    "kernelspec": {
      "name": "python3",
      "display_name": "Python 3"
    },
    "language_info": {
      "name": "python"
    }
  },
  "cells": [
    {
      "cell_type": "markdown",
      "metadata": {
        "id": "view-in-github",
        "colab_type": "text"
      },
      "source": [
        "<a href=\"https://colab.research.google.com/github/vikrantiit24/PPS_LAB/blob/main/pythonlab1.ipynb\" target=\"_parent\"><img src=\"https://colab.research.google.com/assets/colab-badge.svg\" alt=\"Open In Colab\"/></a>"
      ]
    },
    {
      "cell_type": "markdown",
      "source": [
        "DAY2"
      ],
      "metadata": {
        "id": "RkhWxj31GbSt"
      }
    },
    {
      "cell_type": "markdown",
      "source": [
        "Python Program to Print the Fibonacci sequence using while loop"
      ],
      "metadata": {
        "id": "-CudoIZaGc6Q"
      }
    },
    {
      "cell_type": "code",
      "source": [
        "n=int(input(\"Enter range\"))\n",
        "a,b=0,1\n",
        "count=0\n",
        "fib_list=[]\n",
        "while count<n:\n",
        "  fib_list.append(a)\n",
        "  a,b=b,a+b\n",
        "  count+=1\n",
        "print(fib_list)\n"
      ],
      "metadata": {
        "colab": {
          "base_uri": "https://localhost:8080/"
        },
        "id": "0JFabY4ZGjZV",
        "outputId": "63bab8cf-0859-486b-b5de-56251f0fc8b2"
      },
      "execution_count": 5,
      "outputs": [
        {
          "output_type": "stream",
          "name": "stdout",
          "text": [
            "Enter range5\n",
            "[0, 1, 1, 2, 3]\n"
          ]
        }
      ]
    },
    {
      "cell_type": "markdown",
      "source": [
        "Write a program to check whether the given input is digit or lowercase character or uppercase\n",
        "character or a special character (use 'if-else-if' ladder)"
      ],
      "metadata": {
        "id": "sqOoAGGAIt85"
      }
    },
    {
      "cell_type": "code",
      "source": [
        "in_put = input(\"Enter number\")\n",
        "if in_put.islower():\n",
        "  print(\"lower\")\n",
        "elif in_put.isupper():\n",
        "  print(\"upper\")\n",
        "else:\n",
        "  print(\"special\")"
      ],
      "metadata": {
        "colab": {
          "base_uri": "https://localhost:8080/"
        },
        "id": "Jfj72tg-I0Ei",
        "outputId": "63cbb007-4f50-49a9-b429-b4cee6904264"
      },
      "execution_count": 7,
      "outputs": [
        {
          "output_type": "stream",
          "name": "stdout",
          "text": [
            "Enter numbera\n",
            "lower\n"
          ]
        }
      ]
    },
    {
      "cell_type": "markdown",
      "source": [
        "Python program to print all prime numbers in a given interval (use break)"
      ],
      "metadata": {
        "id": "A2mU-fxoJXCj"
      }
    },
    {
      "cell_type": "code",
      "source": [
        "min_value=int(input(\"Enter min value\"))\n",
        "max_value=int(input(\"Enter max value\"))\n",
        "for num in range(min_value,max_value+1):\n",
        "  if num>1:\n",
        "    for i in range(2,num):\n",
        "      if num%i==0:\n",
        "        break\n",
        "    else:\n",
        "        print(num)"
      ],
      "metadata": {
        "colab": {
          "base_uri": "https://localhost:8080/"
        },
        "id": "GemnZnnIJnO_",
        "outputId": "5c386611-7e78-413e-8a3b-314255cbc437"
      },
      "execution_count": 18,
      "outputs": [
        {
          "output_type": "stream",
          "name": "stdout",
          "text": [
            "Enter min value3\n",
            "Enter max value9\n",
            "3\n",
            "5\n",
            "7\n"
          ]
        }
      ]
    },
    {
      "cell_type": "code",
      "source": [
        "n=int(input(\"Enter number\"))\n",
        "for i in range(n,0,-1):\n",
        "  for j in range(n-i+1):\n",
        "    print(i,end='')\n",
        "  print()"
      ],
      "metadata": {
        "colab": {
          "base_uri": "https://localhost:8080/"
        },
        "id": "vgq4dyOPLqLl",
        "outputId": "90d23905-0f0f-4939-e172-8d087a86e853"
      },
      "execution_count": 22,
      "outputs": [
        {
          "output_type": "stream",
          "name": "stdout",
          "text": [
            "Enter number5\n",
            "5\n",
            "44\n",
            "333\n",
            "2222\n",
            "11111\n"
          ]
        }
      ]
    }
  ]
}